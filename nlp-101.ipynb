{
 "cells": [
  {
   "cell_type": "markdown",
   "metadata": {},
   "source": [
    "# NLP 101\n",
    "The basics of NLP.\n",
    "Authors: "
   ]
  }
 ],
 "metadata": {
  "interpreter": {
   "hash": "c664fd8b023ea539424b83e96b8f0f926171d9fec1510bb90191df6711ed5e76"
  },
  "kernelspec": {
   "display_name": "Python 3.9.1 64-bit ('base': conda)",
   "name": "python3"
  },
  "language_info": {
   "name": "python",
   "version": ""
  },
  "orig_nbformat": 4
 },
 "nbformat": 4,
 "nbformat_minor": 2
}