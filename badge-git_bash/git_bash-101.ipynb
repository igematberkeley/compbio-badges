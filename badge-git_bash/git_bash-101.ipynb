{
 "cells": [
  {
   "cell_type": "markdown",
   "metadata": {},
   "source": [
    "# Git x Bash 101"
   ]
  },
  {
   "cell_type": "markdown",
   "metadata": {},
   "source": [
    "### Outline\n",
    "- Concepts\n",
    "    - server == computer\n",
    "    - everything is made up of files\n",
    "\n",
    "- Bash basics\n",
    "    - structure of commands (\\<command\\> \\<flags\\> \\<args\\>)\n",
    "    - navigating files (ls, cd, ln -s, dir) -> where things are (home, root, etc)\n",
    "    - interacting with files (cat, nano/vim, head/tail, touch, rm, cp, mv)\n",
    "    - Installing stuff\n",
    "    - Python and Conda\n",
    "\n",
    "- Bash Advanced\n",
    "    - SSH/SFTP\n",
    "    - Permissions (mod and sudo)\n",
    "    - Background jobs\n",
    "\n",
    "- Git Concepts\n",
    "    - Give a link \n",
    "- Git Basics \n",
    "- Git Specials\n",
    "\n",
    "- Bash Extras\n",
    "    - Different OS's (diff terminals liek wsl, file sep, etc)\n",
    "    - "
   ]
  },
  {
   "cell_type": "code",
   "execution_count": null,
   "metadata": {},
   "outputs": [],
   "source": []
  },
  {
   "cell_type": "code",
   "execution_count": null,
   "metadata": {},
   "outputs": [],
   "source": []
  },
  {
   "cell_type": "code",
   "execution_count": null,
   "metadata": {},
   "outputs": [],
   "source": []
  },
  {
   "cell_type": "code",
   "execution_count": null,
   "metadata": {},
   "outputs": [],
   "source": []
  },
  {
   "cell_type": "code",
   "execution_count": null,
   "metadata": {},
   "outputs": [],
   "source": []
  }
 ],
 "metadata": {
  "interpreter": {
   "hash": "648c62117b4932bae22e7892b676e97909ccd5e2255a5add4a1869e86c38632e"
  },
  "kernelspec": {
   "display_name": "Python",
   "name": "python3"
  },
  "language_info": {
   "name": "python",
   "version": ""
  }
 },
 "nbformat": 4,
 "nbformat_minor": 4
}