{
 "cells": [
  {
   "cell_type": "markdown",
   "metadata": {},
   "source": [
    "# Git + Bash 101\n",
    "In this badge, we will go through the absolute basics of the bash command line (Linux, MacOS, WSL) and git, with zero prior experience needed. By the end of the course, you should be able to navigate your way through a computer purely through the command line, connect to servers, and maintain progress updates using git and Github."
   ]
  },
  {
   "cell_type": "markdown",
   "metadata": {
    "tags": []
   },
   "source": [
    "## Outline\n",
    "1. Concepts\n",
    "    - server == computer\n",
    "    - everything is made up of files\n",
    "\n",
    "\n",
    "2. Bash basics\n",
    "\n",
    "    2.1 structure of commands (\\<command\\> \\<flags\\> \\<args\\>)\n",
    "    \n",
    "    2.2 navigating files (ls, cd, ln -s, dir) -> where things are (home, root, cp, mv, etc)\n",
    "    \n",
    "    2.3 manipulating files (cat, nano/vim, head/tail, touch, rm)\n",
    "    \n",
    "    2.4 Installing stuff\n",
    "    \n",
    "    2.5 Python Scripting\n",
    "\n",
    "\n",
    "3.  Bash Advanced\n",
    "\n",
    "    3.1 SSH/SFTP\n",
    "    \n",
    "    3.2 Permissions (mod and sudo)\n",
    "    \n",
    "    3.3 Background Processes\n",
    "\n",
    "\n",
    "4. Git Concepts TBD\n",
    "    \n",
    "    \n",
    "5. Git Basics TBD \n",
    "\n",
    "\n",
    "7. Git Specials TBD"
   ]
  },
  {
   "cell_type": "markdown",
   "metadata": {},
   "source": [
    "## 1. Command Line Concepts\n",
    "The 'terminal' is the command-line window into the inner workings of computers. When you're looking at your computer's terminal, you can do a lot of the things you normally do + much more: edit/manipulate files, open files, organize folders, run programs, etc. \n",
    "\n",
    "Just as your local computer has an operating system, files, folders, programs, so do servers. This means that those things you can do on your computer you can also do to remote computers, that you are connected to through your terminal!\n",
    "\n",
    "Another thing to know is that everything is made up of files. All the complex programs out there are made up of many text files of various formats and interpreted by different programs, which are also made up of a bunch of files. When you're doing a computational biology projects, you will have to handle a _boatload_ of files. There are files to control configurations, python files that contain your code, binary files you won't be able to edit, sequence files you _can_ edit, pdf's, etc. \n",
    "\n",
    "#### Terminal vs Bash vs Shell?\n",
    "I threw these terms around earlier, and you will see these terms a lot when looking through tutorials and articles online. So what are they exactly? \n",
    "\n",
    "A shell is software that is designed to interact with the user. The shell takes in commands, and displays the outputs. A terminal, on the other hand, is the program that runs a shell. Additionally, 'bash' is one of the most common shell type, among the other shell types (zsh, csh, ksh, etc). Therefore, a user would open a _terminal_ to access a _shell_, usually _bash_, and type in commands to do stuff."
   ]
  },
  {
   "cell_type": "markdown",
   "metadata": {},
   "source": [
    "## 2. Bash Basics\n",
    "We start with the basic commands you will have to use multiple times a day, ideally without even thinking about it. These are for file navigation and manipulation, so they do the same thing as you waving your mouse around a bunch of files and folders, including copying, pasting, creating shortcuts, etc.\n",
    "\n",
    "First of all, let's try to open a bash terminal. See the Jupyter 101 badge to see how to do it. But in essence:\n",
    "1. If you're in jupyter**lab**, click on the big blue `+` button on the top left, then select `$_ Terminal`.\n",
    "2. If you're in jupyer **notebooks**, go back to the tree view (where you can see all your files), click on `new`, then click on `terminal`.\n",
    "\n",
    "You can type in all the commands in the terminal you just opened. But, for the sake of this course, we will use jupyter (this notebook) as the interface to the shell. All you need is the \"!\" 'magic command'."
   ]
  },
  {
   "cell_type": "code",
   "execution_count": 1,
   "metadata": {},
   "outputs": [
    {
     "name": "stdout",
     "output_type": "stream",
     "text": [
      "/home/jovyan/compbio-badges-dev/badge-git_bash\n"
     ]
    }
   ],
   "source": [
    "# Example command\n",
    "!pwd"
   ]
  },
  {
   "cell_type": "markdown",
   "metadata": {},
   "source": [
    "You should see the current working directory printed out above."
   ]
  },
  {
   "cell_type": "markdown",
   "metadata": {},
   "source": [
    "### 2.1 Commands and Their Structure\n",
    "A very typical line in bash involves a command, flags (options), and arguments. Here are some example combinations:\n",
    "\n",
    "| Example Command | Structure | Function | \n",
    "| --- | --- | --- |\n",
    "| `ls` | `<command>` | lists files in directory |\n",
    "| `pwd` | `<command>` | present working directory |\n",
    "| `ls -a` | `<command> <flag>` | lists all files in directory, including hidden ones |\n",
    "| `ls -l -a` | `<command> <flag> <flag>` | lists all files in directory, including hidden ones, including details |\n",
    "| `ls -la` | `<command> <2 flags>` | lists all files in directory, including hidden ones, including details (same as above) |\n",
    "| `cat myfile.txt` | `<command> <arg>` | view the text inside myfile.txt |\n",
    "| `cat --help` | `<command> <flag>` | prints the help manual for the command 'cat' |\n",
    "| `mv myfile.txt yourfile.txt` | `<command>` | present working directory |\n",
    "| `samtools view -o aln.bam aln.sam.gz` | `<command> <subcommand> <optional argument type> <optional argument> <required argument>` | view aln.sam.gz and save it as aln.bam |\n",
    "\n",
    "\n",
    "\n"
   ]
  },
  {
   "cell_type": "markdown",
   "metadata": {},
   "source": [
    "### 2.2 Navigation"
   ]
  },
  {
   "cell_type": "code",
   "execution_count": 2,
   "metadata": {},
   "outputs": [
    {
     "name": "stdout",
     "output_type": "stream",
     "text": [
      "\n",
      "Automagic is ON, % prefix IS NOT needed for line magics.\n"
     ]
    }
   ],
   "source": [
    "# First we want to get rid of having to use \"!\". You have to run this cell but don't have to know what it does.\n",
    "%automagic 1"
   ]
  },
  {
   "cell_type": "markdown",
   "metadata": {},
   "source": [
    "So when you open your terminal (or jupyter), it is 'located' at a certain directory, called the 'present working directory'."
   ]
  },
  {
   "cell_type": "code",
   "execution_count": 3,
   "metadata": {},
   "outputs": [
    {
     "data": {
      "text/plain": [
       "'/home/jovyan/compbio-badges-dev/badge-git_bash'"
      ]
     },
     "execution_count": 3,
     "metadata": {},
     "output_type": "execute_result"
    }
   ],
   "source": [
    "pwd"
   ]
  },
  {
   "cell_type": "markdown",
   "metadata": {},
   "source": [
    "This 'location' is just a pointer, kind of like opening a specific folder visually. You can do stuff to the files in this folder too, such as view all files in this directory:"
   ]
  },
  {
   "cell_type": "code",
   "execution_count": 4,
   "metadata": {},
   "outputs": [
    {
     "name": "stdout",
     "output_type": "stream",
     "text": [
      "git_bash-101.ipynb  \u001b[0m\u001b[01;34msupermarket\u001b[0m/\n"
     ]
    }
   ],
   "source": [
    "ls"
   ]
  },
  {
   "cell_type": "markdown",
   "metadata": {},
   "source": [
    "The highlighted items are directories, and the plaintext ones are files. You can enter directories and open files."
   ]
  },
  {
   "cell_type": "markdown",
   "metadata": {},
   "source": [
    "However, you have the ability to change your location. You can enter a specific folder by using `cd` (or \"change directory\"). This lets you either go to a folder within your pwd:"
   ]
  },
  {
   "cell_type": "code",
   "execution_count": 5,
   "metadata": {},
   "outputs": [
    {
     "name": "stdout",
     "output_type": "stream",
     "text": [
      "/home/jovyan/compbio-badges-dev/badge-git_bash/supermarket\n"
     ]
    }
   ],
   "source": [
    "cd supermarket"
   ]
  },
  {
   "cell_type": "markdown",
   "metadata": {},
   "source": [
    "Or move 'up' a directory using `..`: For reference, `.` is the current directory."
   ]
  },
  {
   "cell_type": "code",
   "execution_count": 6,
   "metadata": {},
   "outputs": [
    {
     "name": "stdout",
     "output_type": "stream",
     "text": [
      "/home/jovyan/compbio-badges-dev/badge-git_bash\n"
     ]
    }
   ],
   "source": [
    "cd .."
   ]
  },
  {
   "cell_type": "markdown",
   "metadata": {},
   "source": [
    "You can also jump to different locations, such as your 'home' using `~`:"
   ]
  },
  {
   "cell_type": "code",
   "execution_count": 7,
   "metadata": {},
   "outputs": [
    {
     "name": "stdout",
     "output_type": "stream",
     "text": [
      "/home/jovyan\n"
     ]
    }
   ],
   "source": [
    "cd ~"
   ]
  },
  {
   "cell_type": "markdown",
   "metadata": {},
   "source": [
    "Or to a random folder:"
   ]
  },
  {
   "cell_type": "code",
   "execution_count": 8,
   "metadata": {},
   "outputs": [
    {
     "name": "stdout",
     "output_type": "stream",
     "text": [
      "/home/jovyan/compbio-badges-dev/badge-git_bash/supermarket\n"
     ]
    }
   ],
   "source": [
    "cd ~/compbio-badges-dev/badge-git_bash/supermarket"
   ]
  },
  {
   "cell_type": "code",
   "execution_count": 9,
   "metadata": {},
   "outputs": [
    {
     "name": "stdout",
     "output_type": "stream",
     "text": [
      "\u001b[0m\u001b[01;34maisle_1\u001b[0m/  \u001b[01;34maisle_2\u001b[0m/\n"
     ]
    }
   ],
   "source": [
    "ls"
   ]
  },
  {
   "cell_type": "markdown",
   "metadata": {},
   "source": [
    "We can then do many things! For example, copy the apples.txt file to aisle 2:"
   ]
  },
  {
   "cell_type": "code",
   "execution_count": 10,
   "metadata": {},
   "outputs": [
    {
     "name": "stdout",
     "output_type": "stream",
     "text": [
      "cp: cannot stat 'aisle_1/apples.txt': No such file or directory\n"
     ]
    }
   ],
   "source": [
    "cp aisle_1/apples.txt aisle_2/"
   ]
  },
  {
   "cell_type": "code",
   "execution_count": 11,
   "metadata": {},
   "outputs": [
    {
     "name": "stdout",
     "output_type": "stream",
     "text": [
      "\u001b[0m\u001b[01;36maisle_2\u001b[0m@  bananas.txt\n",
      "apples.txt  potato_chips.txt  sodas.txt\n"
     ]
    }
   ],
   "source": [
    "ls aisle_1 && ls aisle_2"
   ]
  },
  {
   "cell_type": "markdown",
   "metadata": {},
   "source": [
    "Then we can delete files with `rm`:"
   ]
  },
  {
   "cell_type": "code",
   "execution_count": 12,
   "metadata": {},
   "outputs": [],
   "source": [
    "rm aisle_2/apples.txt"
   ]
  },
  {
   "cell_type": "code",
   "execution_count": 13,
   "metadata": {},
   "outputs": [
    {
     "name": "stdout",
     "output_type": "stream",
     "text": [
      "\u001b[0m\u001b[01;36maisle_2\u001b[0m@  bananas.txt\n",
      "potato_chips.txt  sodas.txt\n"
     ]
    }
   ],
   "source": [
    "ls aisle_1 && ls aisle_2"
   ]
  },
  {
   "cell_type": "markdown",
   "metadata": {},
   "source": [
    "We can also move files altogether, or rename them (both with `mv`):"
   ]
  },
  {
   "cell_type": "code",
   "execution_count": 14,
   "metadata": {},
   "outputs": [
    {
     "name": "stdout",
     "output_type": "stream",
     "text": [
      "mv: cannot stat 'aisle_1/apples.txt': No such file or directory\n"
     ]
    }
   ],
   "source": [
    "mv aisle_1/apples.txt aisle_2/"
   ]
  },
  {
   "cell_type": "code",
   "execution_count": 15,
   "metadata": {},
   "outputs": [
    {
     "name": "stdout",
     "output_type": "stream",
     "text": [
      "\u001b[0m\u001b[01;36maisle_2\u001b[0m@  bananas.txt\n",
      "potato_chips.txt  sodas.txt\n"
     ]
    }
   ],
   "source": [
    "ls aisle_1 && ls aisle_2"
   ]
  },
  {
   "cell_type": "markdown",
   "metadata": {},
   "source": [
    "We can also create shortcuts to go from one folder to another, in this case, we want to go to aisle_2 from aisle_1:"
   ]
  },
  {
   "cell_type": "code",
   "execution_count": 16,
   "metadata": {},
   "outputs": [
    {
     "name": "stdout",
     "output_type": "stream",
     "text": [
      "ln: failed to create symbolic link '/home/jovyan/compbio-badges-dev/badge-git_bash/supermarket/aisle_1/aisle_2': File exists\n"
     ]
    }
   ],
   "source": [
    "!ln -s /home/jovyan/compbio-badges-dev/badge-git_bash/supermarket/aisle_2 ~/compbio-badges-dev/badge-git_bash/supermarket/aisle_1"
   ]
  },
  {
   "cell_type": "code",
   "execution_count": 17,
   "metadata": {},
   "outputs": [
    {
     "name": "stdout",
     "output_type": "stream",
     "text": [
      "\u001b[0m\u001b[01;34maisle_1\u001b[0m/  \u001b[01;34maisle_2\u001b[0m/\n",
      "/home/jovyan/compbio-badges-dev/badge-git_bash/supermarket\n"
     ]
    }
   ],
   "source": [
    "ls && pwd"
   ]
  },
  {
   "cell_type": "markdown",
   "metadata": {},
   "source": [
    "Going to aisle_2 through aisle_1!"
   ]
  },
  {
   "cell_type": "code",
   "execution_count": 21,
   "metadata": {},
   "outputs": [
    {
     "name": "stdout",
     "output_type": "stream",
     "text": [
      "[Errno 2] No such file or directory: 'aisle_1/aisle_2/'\n",
      "/home/jovyan/compbio-badges-dev/badge-git_bash\n"
     ]
    }
   ],
   "source": [
    "cd aisle_1/aisle_2/ "
   ]
  },
  {
   "cell_type": "code",
   "execution_count": 19,
   "metadata": {},
   "outputs": [
    {
     "name": "stdout",
     "output_type": "stream",
     "text": [
      "/home/jovyan/compbio-badges-dev/badge-git_bash\n"
     ]
    }
   ],
   "source": [
    "cd .."
   ]
  },
  {
   "cell_type": "markdown",
   "metadata": {},
   "source": [
    "### 2.3 Manipulating Files"
   ]
  },
  {
   "cell_type": "markdown",
   "metadata": {},
   "source": [
    "We can use `cat` to simply view files. However, be careful since this prints out _everything_ in the file. If your file is 1000 lines long, it will print out all 1000 lines. "
   ]
  },
  {
   "cell_type": "code",
   "execution_count": 28,
   "metadata": {},
   "outputs": [
    {
     "name": "stdout",
     "output_type": "stream",
     "text": [
      "soda 1\n",
      "soda 2\n",
      "soda 3\n",
      "soda 4\n",
      "soda 5\n",
      "soda 6\n",
      "soda 7\n",
      "soda 8\n",
      "soda 9\n",
      "soda 10\n",
      "soda 11\n",
      "soda 12\n",
      "soda 13\n",
      "soda 14\n",
      "soda 15\n",
      "soda 16\n",
      "soda 17\n",
      "soda 18\n",
      "soda 19\n"
     ]
    }
   ],
   "source": [
    "cat aisle_2/sodas.txt"
   ]
  },
  {
   "cell_type": "markdown",
   "metadata": {},
   "source": [
    "Instead, we can use `head` to view the first 10 lines, or `tail` to view the last 10 lines. If you want to view a different number of lines, use a flag with the number of lines."
   ]
  },
  {
   "cell_type": "code",
   "execution_count": 31,
   "metadata": {},
   "outputs": [
    {
     "name": "stdout",
     "output_type": "stream",
     "text": [
      "soda 1\n",
      "soda 2\n",
      "soda 3\n",
      "soda 4\n",
      "soda 5\n",
      "soda 6\n",
      "soda 7\n",
      "soda 8\n",
      "soda 9\n",
      "soda 10\n"
     ]
    }
   ],
   "source": [
    "!head aisle_2/sodas.txt"
   ]
  },
  {
   "cell_type": "code",
   "execution_count": 32,
   "metadata": {},
   "outputs": [
    {
     "name": "stdout",
     "output_type": "stream",
     "text": [
      "soda 1\n",
      "soda 2\n",
      "soda 3\n",
      "soda 4\n"
     ]
    }
   ],
   "source": [
    "!head -4 aisle_2/sodas.txt"
   ]
  },
  {
   "cell_type": "code",
   "execution_count": 33,
   "metadata": {},
   "outputs": [
    {
     "name": "stdout",
     "output_type": "stream",
     "text": [
      "soda 10\n",
      "soda 11\n",
      "soda 12\n",
      "soda 13\n",
      "soda 14\n",
      "soda 15\n",
      "soda 16\n",
      "soda 17\n",
      "soda 18\n",
      "soda 19\n"
     ]
    }
   ],
   "source": [
    "!tail aisle_2/sodas.txt"
   ]
  },
  {
   "cell_type": "code",
   "execution_count": 35,
   "metadata": {},
   "outputs": [
    {
     "name": "stdout",
     "output_type": "stream",
     "text": [
      "soda 18\n",
      "soda 19\n"
     ]
    }
   ],
   "source": [
    "!tail -2 aisle_2/sodas.txt"
   ]
  },
  {
   "cell_type": "markdown",
   "metadata": {},
   "source": [
    "Once you can view the files, we can also create, edit, and delete files. \n",
    "- To create a file, use `touch <file>`.\n",
    "- To edit a file, use a built-in text editor like `vim <file>` or `nano <file>`\n",
    "- To delete a file, use `rm <file>`. Deleting has advanced uses, such as deleting empty dirs, deleting full dirs, selectively deleting files, etc."
   ]
  },
  {
   "cell_type": "code",
   "execution_count": 37,
   "metadata": {},
   "outputs": [
    {
     "name": "stdout",
     "output_type": "stream",
     "text": [
      "\u001b[0m\u001b[01;34maisle_1\u001b[0m/  \u001b[01;34maisle_2\u001b[0m/\n"
     ]
    }
   ],
   "source": [
    "ls"
   ]
  },
  {
   "cell_type": "markdown",
   "metadata": {},
   "source": [
    "### 2.4 Installing Stuff"
   ]
  },
  {
   "cell_type": "markdown",
   "metadata": {},
   "source": [
    "There are two types of things you will most likely have to install: python packages and bash programs. \n",
    "\n",
    "**Python packages**\n",
    "\n",
    "For python packages, it's fairly straightforward. You can either use the built-in `pip install <package_name>` , or `conda install <package_name>`. Most packages are available in both installers, but some aren't. Just check the instruction of your specific package.\n",
    "\n",
    "*Note: The conda command is not built-in, so you'd have to install it first. However, conda is nice that it's also provides you with the ability to make 'environments', which can then have their own set of packages installed. This way, you can have different environments for different projects that require their own unique set of packages."
   ]
  },
  {
   "cell_type": "markdown",
   "metadata": {},
   "source": [
    "**Bash Programs**\n",
    "\n",
    "Regarding bash programs, there are more ways of doing it. There are a few built-in installers: `apt`, `apt-get`, and `dpkg`. We are only going to use `apt install <programn_name>`. \n",
    "\n",
    "*Note on sudo: Sometimes, when we need administrative privileges, we prepend `sudo` to the command. It doesn't work well in datahub but you can use it on your local terminal on your own time."
   ]
  },
  {
   "cell_type": "markdown",
   "metadata": {},
   "source": [
    "Sometimes, you need to install things from files you download online. For example, Miniconda (a lightweight version of conda). Here is how you would install it:\n",
    "\n",
    "First, you have to download the file with `wget <file_link>`:\n",
    "\n",
    "`wget https://repo.anaconda.com/miniconda/Miniconda3-latest-Linux-x86_64.sh`\n",
    "\n",
    "\n",
    "Then, you run the script (.sh means shell script) using `bash <script.sh>`: \n",
    "\n",
    "`bash Miniconda3-latest-Linux-x86_64.sh`"
   ]
  },
  {
   "cell_type": "markdown",
   "metadata": {},
   "source": [
    "### 2.5 Python Scripting"
   ]
  },
  {
   "cell_type": "markdown",
   "metadata": {},
   "source": [
    "Speaking of scripts, one thing we will do a lot is writing python files, then running them. You may be familiar with python notebooks (.ipynb) but python also has its original script format (.py). These scripts are run with `python <script.py>`. The cool thing is that with this command, you can run python as any other script, and use the aforementioned flags/options and arguments like you would a bash command!"
   ]
  },
  {
   "cell_type": "code",
   "execution_count": 42,
   "metadata": {},
   "outputs": [],
   "source": [
    "# Lets create a small python script:\n",
    "# This is a quicker way of writing into a file. 'Echo' is the equivalent of a print statement but for bash.\n",
    "# \">\" Redirects the output from the terminal to the file instead.\n",
    "!echo \"print('Items: cereal')\" > basket.py"
   ]
  },
  {
   "cell_type": "code",
   "execution_count": 44,
   "metadata": {},
   "outputs": [
    {
     "name": "stdout",
     "output_type": "stream",
     "text": [
      "Items: cereal\n"
     ]
    }
   ],
   "source": [
    "# Running the script\n",
    "!python basket.py"
   ]
  },
  {
   "cell_type": "markdown",
   "metadata": {},
   "source": [
    "We can also use arguments by using `sys`, a built-in python package! \n",
    "\n",
    "*note: \"\\\\\" (backslash) is used in both python and bash to split one line into multiple lines without being considered separate lines.\n",
    "\n",
    "*note: \">>\" is _append_, whereas \">\" is (over)_write_ "
   ]
  },
  {
   "cell_type": "code",
   "execution_count": 72,
   "metadata": {},
   "outputs": [],
   "source": [
    "!echo 'import sys' > basket.py\n",
    "!echo 'print(f\"Owner of basket: {sys.argv[1]}\")' >> basket.py"
   ]
  },
  {
   "cell_type": "code",
   "execution_count": 73,
   "metadata": {},
   "outputs": [
    {
     "name": "stdout",
     "output_type": "stream",
     "text": [
      "Owner of basket: Ivan\n"
     ]
    }
   ],
   "source": [
    "!python basket.py Ivan"
   ]
  },
  {
   "cell_type": "markdown",
   "metadata": {},
   "source": [
    "## 3. Advanced Bash"
   ]
  },
  {
   "cell_type": "markdown",
   "metadata": {},
   "source": [
    "### 3.1 SSH/SFTP\n",
    "SSH is the protocol to connect your terminal to a remote server/computer's terminal. You typically do this with `ssh <username>@<ip_address> -p <portnumber, defaults to 22>`\n",
    "\n",
    "The `ip_address` can also be a domain, depending on the server. For example, for Savio, we connect to `<user>@hpc.brc.berkeley.edu`. The port number can also be changed depending on your/their needs.\n",
    "\n",
    "SFTP, on the other hand, is geared more towards file transfers (hence Secure File Transfer Protocol), and less about running scripts and commands on the remote server.\n",
    "\n",
    "With both SSH and SFTP, you can use a third-party client to view/manipulate/download/upload to/from the remote server's directory (WinSCP, Filezilla, Cyberduck, etc). You can also connect VSCode, a code editor, directly to a remote server through SSH. This way, you can directly edit files on the server, as well as do everything you'd normally do on your local computer, remotely, such as running scripts, running commands, debugging, github stuff, etc."
   ]
  },
  {
   "cell_type": "markdown",
   "metadata": {},
   "source": [
    "### 3.2 Permissions\n",
    "With permissions, the concepts are fairly straightforward but the implementation is very tricky. First of all, every single file and folder have a set of things that can be done to it (read, write, and execute), applied to different groups (specific users, specific groups, and/or everyone/public). You can use:\n",
    "\n",
    "`chmod <+/-><permission_number> <file | directory -R>`\n",
    "\n",
    "You can then view the permissions by using `ls -l <file/folder>` and looking at the long string on the left column.\n",
    "\n",
    "An important component is the `permission_number` that varies from 0 (strictest, nobody can read, write or execute) to 777 (everyone can read, write and execute). \n",
    "\n",
    "**Ownership**\n",
    "Similarly, every file/folder is owned by some user AND some group (usually some default group containing all the users). Changing the owners will change which permissions apply to people. For example, file A has permission RWX for its user owner, but RW- for everyone else. If you change the owner from person A to B, then person A will lose execution privileges, whereas person B gains execution privileges. A similar story applies to groups.\n",
    "\n",
    "To change user owners, use `sudo chown <user> <file/dir>`, and to change group owner, use `sudo chgrp <file/dir>` or `sudo chown <user(opt)>:<group> <file/dir>`.\n",
    "\n",
    "If you want to learn more, visit https://ss64.com/bash/syntax-permissions.html and https://linuxcommand.org/lc3_lts0090.php"
   ]
  },
  {
   "cell_type": "markdown",
   "metadata": {},
   "source": [
    "### 3.3 Background jobs"
   ]
  },
  {
   "cell_type": "markdown",
   "metadata": {},
   "source": [
    "When you type in `python mysript.py` or `bash myscript.sh`, it will run in the terminal you're on, and will be forcefully terminated whenever you close your terminal. On local devices, this is fine, but when working on remote servers, you are unlikely to stay on and connected for multiple days, since you have to close/sleep/shutdown your computer. With the script running in the foreground, closing your SSH connection will terminate it. So, how do you solve this? Ignore the kill signal!"
   ]
  },
  {
   "cell_type": "markdown",
   "metadata": {},
   "source": [
    "1. `nohup` (\"no hangup\") is a command that lets you do just that. Prepending a command with `nohup` will cause that process to ignore any 'kill' signals sent by the closing of the terminal (or ssh connection). For example, `nohup python myscript.py` will cause it to keep running even when the terminal is closed.\n",
    "2. `&`, when appended to a command, will put it in the background. But, it doesn't prevent the process from being killed when closed. E.g. `python myscript.py &` will send it to the background. You can use the terminal for other things, and the printouts will not show up.\n",
    "3. Both! Typically using both will be the best option. You can just type `nohup python myscript.py &` and your script will run in the background, while you can go about your day as the process finishes by itself. "
   ]
  },
  {
   "cell_type": "markdown",
   "metadata": {},
   "source": [
    "There are some nice tips to use:\n",
    "- Since you can't see the printouts using nohup + &, it will output to some nohupXXX file at the end. If you want the output to be saved in a file of your name of choosing, then use the \">\" operator, like `nohup python myscript.py > my_printouts.txt &`.\n",
    "- The method above works for most commands, but python specifically waits for the process to complete before dumping ALL the printouts to your file (this is called buffering). To solve this, we want python to print stuff out 'unbuffered', using the flag `-u`. E.g. `nohup python -u myscript.py > my_printouts.txt &`.\n",
    "- Now python is writing your printouts line by line to your output file. You can certainly `cat` it, but it doesn't change live. What do you do to monitor it in real time then? Introducing: `tail -F <file>`! You can view the end of the file (your printouts) live as it updates in real time!\n",
    "- I have access to the printouts, but I don't want to monitor it constantly. How do I know if my job's running or if it was killed? You can view all the jobs that are running/recently ran by typing in `jobs` without any args.\n",
    "- Okay, so I want to cancel my job. How do I do that? First, make sure to note down the number that was printed out when you ran the nohup'ed process. It's typically a 4-6 digit number. This is its process ID ('pid'). To kill this process, type in `kill -9 <pid>`. That's it.\n"
   ]
  },
  {
   "cell_type": "code",
   "execution_count": null,
   "metadata": {},
   "outputs": [],
   "source": []
  }
 ],
 "metadata": {
  "interpreter": {
   "hash": "c664fd8b023ea539424b83e96b8f0f926171d9fec1510bb90191df6711ed5e76"
  },
  "kernelspec": {
   "display_name": "Python 3 (ipykernel)",
   "language": "python",
   "name": "python3"
  },
  "language_info": {
   "codemirror_mode": {
    "name": "ipython",
    "version": 3
   },
   "file_extension": ".py",
   "mimetype": "text/x-python",
   "name": "python",
   "nbconvert_exporter": "python",
   "pygments_lexer": "ipython3",
   "version": "3.9.6"
  }
 },
 "nbformat": 4,
 "nbformat_minor": 4
}
