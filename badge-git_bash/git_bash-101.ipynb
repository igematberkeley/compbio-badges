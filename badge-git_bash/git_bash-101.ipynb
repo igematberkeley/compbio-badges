{
 "cells": [
  {
   "cell_type": "markdown",
   "source": [
    "# Git + Bash 101\n",
    "In this badge, we will go through the absolute basics of the bash command line (Linux, MacOS, WSL) and git, with zero prior experience needed. By the end of the course, you should be able to navigate your way through a computer purely through the command line, connect to servers, and maintain progress updates using git and Github."
   ],
   "metadata": {}
  },
  {
   "cell_type": "markdown",
   "source": [
    "## Outline\n",
    "- Concepts\n",
    "    - server == computer\n",
    "    - everything is made up of files\n",
    "\n",
    "- Bash basics\n",
    "    - structure of commands (\\<command\\> \\<flags\\> \\<args\\>)\n",
    "    - navigating files (ls, cd, ln -s, dir) -> where things are (home, root, etc)\n",
    "    - interacting with files (cat, nano/vim, head/tail, touch, rm, cp, mv)\n",
    "    - Installing stuff\n",
    "    - Python and Conda\n",
    "\n",
    "- Bash Advanced\n",
    "    - SSH/SFTP\n",
    "    - Permissions (mod and sudo)\n",
    "    - Background jobs\n",
    "\n",
    "- Git Concepts\n",
    "    - Give a link \n",
    "- Git Basics \n",
    "- Git Specials\n",
    "\n",
    "- Bash Extras\n",
    "    - Different OS's (diff terminals liek wsl, file sep, etc)\n",
    "    - "
   ],
   "metadata": {}
  },
  {
   "cell_type": "markdown",
   "source": [
    "## 1. Command Line Concepts\n",
    "The 'terminal' is the command-line window into the inner workings of computers. When you're looking at your computer's terminal, you can do a lot of the things you normally do + much more: edit/manipulate files, open files, organize folders, run programs, etc. \n",
    "\n",
    "Just as your local computer has an operating system, files, folders, programs, so do servers. This means that those things you can do on your computer you can also do to remote computers, that you are connected to through your terminal!\n",
    "\n",
    "Another thing to know is that everything is made up of files. All the complex programs out there are made up of many text files of various formats and interpreted by different programs, which are also made up of a bunch of files. When you're doing a computational biology projects, you will have to handle a _boatload_ of files. There are files to control configurations, python files that contain your code, binary files you won't be able to edit, sequence files you _can_ edit, pdf's, etc. \n",
    "\n",
    "#### Terminal vs Bash vs Shell?\n",
    "I threw these terms around earlier, and you will see these terms a lot when looking through tutorials and articles online. So what are they exactly? \n",
    "\n",
    "A shell is software that is designed to interact with the user. The shell takes in commands, and displays the outputs. A terminal, on the other hand, is the program that runs a shell. Additionally, 'bash' is one of the most common shell type, among the other shell types (zsh, csh, ksh, etc). Therefore, a user would open a _terminal_ to access a _shell_, usually _bash_, and type in commands to do stuff."
   ],
   "metadata": {}
  },
  {
   "cell_type": "markdown",
   "source": [
    "## 2. Bash Basics\n",
    "We start with the basic commands you will have to use multiple times a day, ideally without even thinking about it. These are for file navigation and manipulation, so they do the same thing as you waving your mouse around a bunch of files and folders, including copying, pasting, creating shortcuts, etc.\n",
    "\n",
    "First of all, let's try to open a bash terminal. See the Jupyter 101 badge to see how to do it. But in essence:\n",
    "1. If you're in jupyter**lab**, click on the big blue `+` button on the top left, then select `$_ Terminal`.\n",
    "2. If you're in jupyer **notebooks**, go back to the tree view (where you can see all your files), click on `new`, then click on `terminal`."
   ],
   "metadata": {}
  },
  {
   "cell_type": "markdown",
   "source": [],
   "metadata": {}
  },
  {
   "cell_type": "code",
   "execution_count": null,
   "source": [],
   "outputs": [],
   "metadata": {}
  },
  {
   "cell_type": "code",
   "execution_count": null,
   "source": [],
   "outputs": [],
   "metadata": {}
  },
  {
   "cell_type": "code",
   "execution_count": null,
   "source": [],
   "outputs": [],
   "metadata": {}
  }
 ],
 "metadata": {
  "interpreter": {
   "hash": "c664fd8b023ea539424b83e96b8f0f926171d9fec1510bb90191df6711ed5e76"
  },
  "kernelspec": {
   "name": "python3",
   "display_name": "Python 3.9.1 64-bit ('base': conda)"
  },
  "language_info": {
   "name": "python",
   "version": "3.9.1"
  }
 },
 "nbformat": 4,
 "nbformat_minor": 4
}