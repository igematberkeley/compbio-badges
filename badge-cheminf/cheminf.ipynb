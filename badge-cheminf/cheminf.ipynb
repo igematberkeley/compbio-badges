{
 "cells": [
  {
   "cell_type": "markdown",
   "id": "6349adee",
   "metadata": {},
   "source": [
    "### should have a separate cheminformatics notebook, along with BERT \n",
    "* should have information on BRENDA, query sample info for an enzyme\n",
    "* visualizing chemical structures, processing reaction data\n",
    "* ChemDataExtractor on the associated text of the paper (if u can get it through PubMed/methods we teach in the previous notebook, would be best "
   ]
  },
  {
   "cell_type": "code",
   "execution_count": null,
   "id": "4e5e7397",
   "metadata": {},
   "outputs": [],
   "source": []
  }
 ],
 "metadata": {
  "kernelspec": {
   "display_name": "Python 3",
   "language": "python",
   "name": "python3"
  },
  "language_info": {
   "codemirror_mode": {
    "name": "ipython",
    "version": 3
   },
   "file_extension": ".py",
   "mimetype": "text/x-python",
   "name": "python",
   "nbconvert_exporter": "python",
   "pygments_lexer": "ipython3",
   "version": "3.7.7"
  }
 },
 "nbformat": 4,
 "nbformat_minor": 5
}
