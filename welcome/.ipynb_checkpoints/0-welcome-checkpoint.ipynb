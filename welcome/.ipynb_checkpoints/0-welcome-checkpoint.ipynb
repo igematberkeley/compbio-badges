{
 "cells": [
  {
   "cell_type": "markdown",
   "metadata": {},
   "source": [
    "# iGEM CompBio Badges - Welcome\n",
    "Here you can read about the badges available, and other things you might find helpful."
   ]
  },
  {
   "cell_type": "markdown",
   "metadata": {},
   "source": [
    "## Getting Started\n",
    "We will use DataHub (the same platform for data8/data100 hw/projects). To get this repo cloned in your datahub, [click here](https://datahub.berkeley.edu/hub/user-redirect/git-pull?repo=https%3A%2F%2Fgithub.com%2Figematberkeley%2Fcompbio-badges&urlpath=lab%2Ftree%2Fcompbio-badges%2Fwelcome%2F0-welcome.ipynb&branch=master). If you wish to open your datahub by hand, or you've cloned the repo before, go to [datahub.berkeley.edu](datahub.berkeley.edu). test."
   ]
  },
  {
   "cell_type": "markdown",
   "metadata": {},
   "source": [
    ">> add requirements.txt file with .... basic packages (installing others may take a while and badges should be modular)"
   ]
  },
  {
   "cell_type": "code",
   "execution_count": null,
   "metadata": {},
   "outputs": [],
   "source": []
  }
 ],
 "metadata": {
  "interpreter": {
   "hash": "c664fd8b023ea539424b83e96b8f0f926171d9fec1510bb90191df6711ed5e76"
  },
  "kernelspec": {
   "display_name": "Python 3",
   "language": "python",
   "name": "python3"
  },
  "language_info": {
   "codemirror_mode": {
    "name": "ipython",
    "version": 3
   },
   "file_extension": ".py",
   "mimetype": "text/x-python",
   "name": "python",
   "nbconvert_exporter": "python",
   "pygments_lexer": "ipython3",
   "version": "3.7.7"
  }
 },
 "nbformat": 4,
 "nbformat_minor": 4
}
