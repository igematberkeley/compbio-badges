{
 "cells": [
  {
   "cell_type": "markdown",
   "metadata": {},
   "source": [
    "# iGEM CompBio Badges - Welcome\n",
    "Here you can read about the badges available, and other things you might find helpful."
   ]
  },
  {
   "cell_type": "markdown",
   "metadata": {},
   "source": [
    "## Getting Started\n",
    "We will use DataHub (the same platform for data8/data100 hw/projects). To get this repo cloned in your datahub, [click here](https://datahub.berkeley.edu/hub/user-redirect/git-pull?repo=https%3A%2F%2Fgithub.com%2Figematberkeley%2Fcompbio-badges&urlpath=lab%2Ftree%2Fcompbio-badges%2F0-welcome.ipynb&branch=master). If you wish to open your datahub by hand, or you've cloned the repo before, go to [datahub.berkeley.edu](datahub.berkeley.edu). test."
   ]
  }
 ],
 "metadata": {
  "interpreter": {
   "hash": "c664fd8b023ea539424b83e96b8f0f926171d9fec1510bb90191df6711ed5e76"
  },
  "kernelspec": {
   "display_name": "Python 3.9.1 64-bit ('base': conda)",
   "name": "python3"
  },
  "language_info": {
   "name": "python",
   "version": ""
  },
  "orig_nbformat": 4
 },
 "nbformat": 4,
 "nbformat_minor": 2
}